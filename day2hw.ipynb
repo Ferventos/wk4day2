{
 "cells": [
  {
   "cell_type": "code",
   "execution_count": 1,
   "id": "d1827958",
   "metadata": {},
   "outputs": [
    {
     "data": {
      "text/plain": [
       "['Argentina', 'San Diego', 'Boston', 'New York']"
      ]
     },
     "execution_count": 1,
     "metadata": {},
     "output_type": "execute_result"
    }
   ],
   "source": [
    "places = [\" \", 'Argentina', ' ', 'San Diego','','  ','', 'Boston', 'New York']\n",
    "\n",
    "list(filter(lambda s: False if s == '' or s == ' ' or s == '  ' else True, places))"
   ]
  },
  {
   "cell_type": "code",
   "execution_count": 4,
   "id": "2729588c",
   "metadata": {},
   "outputs": [
    {
     "name": "stdout",
     "output_type": "stream",
     "text": [
      "garfield\n",
      "hasselhoff\n",
      "bernstein\n",
      "carter\n",
      "anisimov\n"
     ]
    }
   ],
   "source": [
    "author = ['Joel Carter', 'Victor aNisimov', 'Andrew P. Garfield', 'David HassELHOFF', 'Gary A.J. Bernstein']\n",
    "\n",
    "author.sort(key=lambda name: name.lower().split(' '[-1]))\n",
    "for a in author:\n",
    "    print((lambda name: name.lower().split(' ')[-1])(a))"
   ]
  },
  {
   "cell_type": "code",
   "execution_count": null,
   "id": "32bbd3e5",
   "metadata": {},
   "outputs": [],
   "source": [
    "# F = (9/5)*C + 32\n",
    "places = [('Nashua',32),(\"Boston\",12),(\"Los Angeles\",44),(\"Miami\",29)]"
   ]
  },
  {
   "cell_type": "code",
   "execution_count": 5,
   "id": "64718fc6",
   "metadata": {},
   "outputs": [
    {
     "data": {
      "text/plain": [
       "5"
      ]
     },
     "execution_count": 5,
     "metadata": {},
     "output_type": "execute_result"
    }
   ],
   "source": [
    "def fib(n):\n",
    "    if n <= 1:\n",
    "        return n\n",
    "    else:\n",
    "        return fib(n-1) + fib(n-2)\n",
    "    \n",
    "fib(5)"
   ]
  },
  {
   "cell_type": "code",
   "execution_count": 8,
   "id": "a1ee0269",
   "metadata": {},
   "outputs": [
    {
     "name": "stdout",
     "output_type": "stream",
     "text": [
      "Iteration 0: 0\n",
      "Iteration 1: 1\n",
      "Iteration 2: 1\n",
      "Iteration 3: 2\n",
      "Iteration 4: 3\n",
      "Iteration 5: 5\n"
     ]
    }
   ],
   "source": [
    "for i in range(6):\n",
    "    print (f'Iteration {i}: {fib(i)}')"
   ]
  }
 ],
 "metadata": {
  "kernelspec": {
   "display_name": "Python 3 (ipykernel)",
   "language": "python",
   "name": "python3"
  },
  "language_info": {
   "codemirror_mode": {
    "name": "ipython",
    "version": 3
   },
   "file_extension": ".py",
   "mimetype": "text/x-python",
   "name": "python",
   "nbconvert_exporter": "python",
   "pygments_lexer": "ipython3",
   "version": "3.9.7"
  }
 },
 "nbformat": 4,
 "nbformat_minor": 5
}
